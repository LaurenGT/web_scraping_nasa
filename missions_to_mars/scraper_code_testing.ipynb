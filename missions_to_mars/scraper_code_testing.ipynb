{
 "cells": [
  {
   "cell_type": "code",
   "execution_count": 69,
   "id": "southern-mobility",
   "metadata": {},
   "outputs": [],
   "source": [
    "from splinter import Browser\n",
    "from bs4 import BeautifulSoup\n",
    "from webdriver_manager.chrome import ChromeDriverManager\n",
    "import time\n",
    "import pandas as pd"
   ]
  },
  {
   "cell_type": "markdown",
   "id": "subjective-companion",
   "metadata": {},
   "source": [
    "## Latest Featured News Article"
   ]
  },
  {
   "cell_type": "code",
   "execution_count": 70,
   "id": "dental-penetration",
   "metadata": {},
   "outputs": [
    {
     "name": "stderr",
     "output_type": "stream",
     "text": [
      "[WDM] - ====== WebDriver manager ======\n",
      "[WDM] - Current google-chrome version is 89.0.4389\n",
      "[WDM] - Get LATEST driver version for 89.0.4389\n",
      "[WDM] - Driver [C:\\Users\\Lauren\\.wdm\\drivers\\chromedriver\\win32\\89.0.4389.23\\chromedriver.exe] found in cache\n"
     ]
    },
    {
     "name": "stdout",
     "output_type": "stream",
     "text": [
      "\n",
      "\n"
     ]
    }
   ],
   "source": [
    "executable_path = {'executable_path': ChromeDriverManager().install()}\n",
    "browser = Browser('chrome', **executable_path, headless=False)"
   ]
  },
  {
   "cell_type": "code",
   "execution_count": 3,
   "id": "cleared-dallas",
   "metadata": {},
   "outputs": [
    {
     "name": "stdout",
     "output_type": "stream",
     "text": [
      "Another First: Perseverance Captures the Sounds of Driving on Mars\n",
      "NASA’s newest rover recorded audio of itself crunching over the surface of the Red Planet, adding a whole new dimension to Mars exploration.\n"
     ]
    }
   ],
   "source": [
    "time.sleep(10)\n",
    "\n",
    "\n",
    "url = \"https://mars.nasa.gov/news/\"\n",
    "browser.visit(url)\n",
    "\n",
    "html = browser.html\n",
    "soup = BeautifulSoup(html, \"html.parser\")\n",
    "\n",
    "#working featured article scraping\n",
    "title = soup.find_all(\"div\", class_=\"content_title\")[1].text\n",
    "teaser = soup.find(\"div\", class_=\"article_teaser_body\").text\n",
    "\n",
    "browser.quit\n",
    "\n",
    "# all working print statements\n",
    "print(title)\n",
    "print(teaser)"
   ]
  },
  {
   "cell_type": "markdown",
   "id": "gentle-fairy",
   "metadata": {},
   "source": [
    "## JPL Featured Image"
   ]
  },
  {
   "cell_type": "code",
   "execution_count": 34,
   "id": "occupational-bailey",
   "metadata": {},
   "outputs": [
    {
     "name": "stdout",
     "output_type": "stream",
     "text": [
      "https://data-class-jpl-space.s3.amazonaws.com/JPL_Space/image/featured/mars1.jpg\n"
     ]
    }
   ],
   "source": [
    "#visit link\n",
    "featured_image_url = \"https://data-class-jpl-space.s3.amazonaws.com/JPL_Space/index.html\"\n",
    "browser.visit(featured_image_url)\n",
    "\n",
    "#visit full image with splinter\n",
    "visit_image = browser.links.find_by_partial_href(\"featured\").click()\n",
    "base_url = \"https://data-class-jpl-space.s3.amazonaws.com/JPL_Space/\"\n",
    "\n",
    "html=browser.html\n",
    "soup=BeautifulSoup(html,\"html.parser\")\n",
    "image = soup.find('img', class_='fancybox-image')\n",
    "src_img = image['src']\n",
    "reference_img_url = base_url + src_img\n",
    "\n",
    "print(reference_img_url)"
   ]
  },
  {
   "cell_type": "markdown",
   "id": "agreed-eligibility",
   "metadata": {},
   "source": [
    "## Mars Facts Table"
   ]
  },
  {
   "cell_type": "code",
   "execution_count": 97,
   "id": "separate-restaurant",
   "metadata": {},
   "outputs": [
    {
     "data": {
      "text/plain": [
       "[('Equatorial Diameter:', '6,792 km'),\n",
       " ('Polar Diameter:', '6,752 km'),\n",
       " ('Mass:', '6.39 × 10^23 kg (0.11 Earths)'),\n",
       " ('Moons:', '2 (Phobos & Deimos)'),\n",
       " ('Orbit Distance:', '227,943,824 km (1.38 AU)'),\n",
       " ('Orbit Period:', '687 days (1.9 years)'),\n",
       " ('Surface Temperature: ', '-87 to -5 °C'),\n",
       " ('First Record:', '2nd millennium BC'),\n",
       " ('Recorded By:', 'Egyptian astronomers')]"
      ]
     },
     "execution_count": 97,
     "metadata": {},
     "output_type": "execute_result"
    }
   ],
   "source": [
    "facts_url = \"https://space-facts.com/mars/\"\n",
    "browser.visit(facts_url)\n",
    "\n",
    "html=browser.html\n",
    "soup=BeautifulSoup(html,\"html.parser\")\n",
    "\n",
    "facts_table = soup.find_all('table', class_=\"tablepress tablepress-id-p-mars\")[0]('tr')\n",
    "# print(facts_table)\n",
    "key=[]\n",
    "value=[]\n",
    "for tr in facts_table:\n",
    "    col_one = tr.find('td', class_=\"column-1\").text\n",
    "    col_two = tr.find('td', class_=\"column-2\").text\n",
    "    key.append(col_one)\n",
    "    value.append(col_two)\n",
    "\n",
    "# print(key)\n",
    "# print(value)\n",
    "data_zip = list(zip(key,value))\n",
    "# for key, value in data_zip:\n",
    "    \n",
    "data_zip\n",
    "# table_df = pd.DataFrame(data_zip)\n",
    "# table_df.head()\n",
    "\n"
   ]
  },
  {
   "cell_type": "markdown",
   "id": "concerned-voice",
   "metadata": {},
   "source": [
    "## Mars Hemispheres"
   ]
  },
  {
   "cell_type": "code",
   "execution_count": 68,
   "id": "recognized-feeding",
   "metadata": {},
   "outputs": [
    {
     "name": "stdout",
     "output_type": "stream",
     "text": [
      "https://astrogeology.usgs.gov//cache/images/f5e372a36edfa389625da6d0cc25d905_cerberus_enhanced.tif_full.jpg\n"
     ]
    }
   ],
   "source": [
    "hem_url = \"https://astrogeology.usgs.gov/search/results?q=hemisphere+enhanced&k1=target&v1=Mars\"\n",
    "browser.visit(hem_url)\n",
    "\n",
    "visit_cer = browser.links.find_by_partial_text(\"Cerberus\").click()\n",
    "\n",
    "html=browser.html\n",
    "soup=BeautifulSoup(html,\"html.parser\")\n",
    "\n",
    "base_url = \"https://astrogeology.usgs.gov/\"\n",
    "image = soup.find('img', class_='wide-image')\n",
    "src_img = image['src']\n",
    "ref_url = base_url + src_img\n",
    "\n",
    "print(ref_url)"
   ]
  },
  {
   "cell_type": "code",
   "execution_count": null,
   "id": "quantitative-value",
   "metadata": {},
   "outputs": [],
   "source": []
  }
 ],
 "metadata": {
  "kernelspec": {
   "display_name": "Python 3",
   "language": "python",
   "name": "python3"
  },
  "language_info": {
   "codemirror_mode": {
    "name": "ipython",
    "version": 3
   },
   "file_extension": ".py",
   "mimetype": "text/x-python",
   "name": "python",
   "nbconvert_exporter": "python",
   "pygments_lexer": "ipython3",
   "version": "3.6.10"
  }
 },
 "nbformat": 4,
 "nbformat_minor": 5
}
